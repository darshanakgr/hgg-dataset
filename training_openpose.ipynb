{
 "cells": [
  {
   "cell_type": "code",
   "execution_count": 1,
   "id": "1cb6d252",
   "metadata": {},
   "outputs": [],
   "source": [
    "import tensorflow as tf\n",
    "import numpy as np\n",
    "import pandas as pd\n",
    "import matplotlib.pyplot as plt\n",
    "import os\n",
    "import glob\n",
    "\n",
    "from sklearn.model_selection import train_test_split\n",
    "\n",
    "from tensorflow.keras.models import Sequential, Model\n",
    "from tensorflow.keras.layers import *\n",
    "\n",
    "import tensorflow_addons as tfa\n",
    "\n",
    "tf.get_logger().setLevel('ERROR')"
   ]
  },
  {
   "cell_type": "code",
   "execution_count": 2,
   "id": "cab62755",
   "metadata": {},
   "outputs": [],
   "source": [
    "%config Completer.use_jedi = False\n",
    "%matplotlib inline"
   ]
  },
  {
   "cell_type": "code",
   "execution_count": 3,
   "id": "e9f6f21c",
   "metadata": {},
   "outputs": [],
   "source": [
    "plt.style.use('ggplot')\n",
    "\n",
    "def plot_history(history):\n",
    "    loss = history.history['loss']\n",
    "    val_loss = history.history['val_loss']\n",
    "    x = range(1, len(loss) + 1)\n",
    "\n",
    "    plt.figure(figsize=(12, 5))\n",
    "    plt.plot(x, loss, 'b', label='Training loss')\n",
    "    plt.plot(x, val_loss, 'r', label='Validation loss')\n",
    "    plt.title('Training and validation loss')\n",
    "    plt.legend()"
   ]
  },
  {
   "cell_type": "markdown",
   "id": "7ac948d0",
   "metadata": {},
   "source": [
    "### Dataset preperation"
   ]
  },
  {
   "cell_type": "code",
   "execution_count": 10,
   "id": "3d60bbed",
   "metadata": {},
   "outputs": [
    {
     "name": "stdout",
     "output_type": "stream",
     "text": [
      "Out of 234356 samples, 24684 were removed.\n"
     ]
    }
   ],
   "source": [
    "dataset_dir = \"data/train_data/openpose_mfcc_derivatives/\"\n",
    "\n",
    "input_x = np.array([]).reshape(0, 793 * 3)\n",
    "input_y = np.array([]).reshape(0, 84)\n",
    "\n",
    "for i in os.listdir(dataset_dir):\n",
    "    d = np.load(os.path.join(dataset_dir, i))\n",
    "    \n",
    "    input_x = np.concatenate((input_x, d[\"x\"]), axis=0)\n",
    "    input_y = np.concatenate((input_y, d[\"y\"]), axis=0)\n",
    "\n",
    "indices = np.unique(np.concatenate((np.argwhere(input_y < -1)[:, 0], np.argwhere(input_y > 1)[:, 0])))\n",
    "\n",
    "init_size = len(input_x)\n",
    "\n",
    "input_x = np.delete(input_x, indices, axis=0)\n",
    "input_y = np.delete(input_y, indices, axis=0)\n",
    "\n",
    "# input_x = input_x[:, :793]\n",
    "\n",
    "print(f\"Out of {init_size} samples, {len(indices)} were removed.\")\n",
    "\n",
    "train_x, val_x, train_y, val_y = train_test_split(input_x, input_y, random_state=123, shuffle=True, test_size=0.2)"
   ]
  },
  {
   "cell_type": "code",
   "execution_count": 23,
   "id": "1f93e431",
   "metadata": {},
   "outputs": [],
   "source": [
    "def get_invidiuals_dataset(video_id):\n",
    "    dataset = np.load(f\"data/train_data/openpose_mfcc_derivatives/{video_id}.npz\")\n",
    "\n",
    "    input_x = dataset[\"x\"]\n",
    "    input_y = dataset[\"y\"]\n",
    "\n",
    "    indices = np.unique(np.concatenate((np.argwhere(input_y < -1)[:, 0], np.argwhere(input_y > 1)[:, 0])))\n",
    "\n",
    "    input_x = np.delete(input_x, indices, axis=0)\n",
    "    input_y = np.delete(input_y, indices, axis=0)\n",
    "\n",
    "#     input_x = input_x[:, :793]\n",
    "\n",
    "    print(f\"Out of {len(dataset['x'])} samples, {len(indices)} were removed.\")\n",
    "    \n",
    "    train_x, val_x, train_y, val_y = train_test_split(input_x, input_y, random_state=123, shuffle=True, test_size=0.5)\n",
    "    \n",
    "    return train_x, val_x, train_y, val_y\n",
    "    "
   ]
  },
  {
   "cell_type": "markdown",
   "id": "45c8b10c",
   "metadata": {},
   "source": [
    "### NN model"
   ]
  },
  {
   "cell_type": "code",
   "execution_count": 15,
   "id": "222b0238",
   "metadata": {},
   "outputs": [],
   "source": [
    "def build_model():\n",
    "    inputs = tf.keras.Input(shape=(793 * 3, ))\n",
    "\n",
    "    x = Dense(2379, activation='tanh')(inputs)\n",
    "    x = Dropout(0.3)(x)\n",
    "    x = Dense(1118 * 3, activation='tanh')(x)\n",
    "    x = Dropout(0.3)(x)\n",
    "    \n",
    "    outputs = Dense(84, activation=\"tanh\")(x)\n",
    "\n",
    "    model = Model(inputs=inputs, outputs=outputs)\n",
    "    \n",
    "    return model"
   ]
  },
  {
   "cell_type": "code",
   "execution_count": 16,
   "id": "2d22a5ee",
   "metadata": {},
   "outputs": [
    {
     "name": "stdout",
     "output_type": "stream",
     "text": [
      "Model: \"model_2\"\n",
      "_________________________________________________________________\n",
      " Layer (type)                Output Shape              Param #   \n",
      "=================================================================\n",
      " input_3 (InputLayer)        [(None, 2379)]            0         \n",
      "                                                                 \n",
      " dense_6 (Dense)             (None, 2379)              5662020   \n",
      "                                                                 \n",
      " dropout_4 (Dropout)         (None, 2379)              0         \n",
      "                                                                 \n",
      " dense_7 (Dense)             (None, 3354)              7982520   \n",
      "                                                                 \n",
      " dropout_5 (Dropout)         (None, 3354)              0         \n",
      "                                                                 \n",
      " dense_8 (Dense)             (None, 84)                281820    \n",
      "                                                                 \n",
      "=================================================================\n",
      "Total params: 13,926,360\n",
      "Trainable params: 13,926,360\n",
      "Non-trainable params: 0\n",
      "_________________________________________________________________\n"
     ]
    }
   ],
   "source": [
    "model = build_model()\n",
    "model.compile(optimizer=tf.keras.optimizers.Adam(learning_rate=0.0001), loss=tf.keras.losses.MeanSquaredError())\n",
    "\n",
    "model.summary()"
   ]
  },
  {
   "cell_type": "code",
   "execution_count": 17,
   "id": "2cbffb07",
   "metadata": {
    "scrolled": true
   },
   "outputs": [
    {
     "name": "stderr",
     "output_type": "stream",
     "text": [
      "2022-04-29 12:15:50.719860: W tensorflow/core/framework/cpu_allocator_impl.cc:82] Allocation of 1596185292 exceeds 10% of free system memory.\n"
     ]
    },
    {
     "name": "stdout",
     "output_type": "stream",
     "text": [
      "Epoch 1/50\n",
      "1311/1311 [==============================] - 7s 5ms/step - loss: 0.2769 - val_loss: 0.1198\n",
      "Epoch 2/50\n",
      "1311/1311 [==============================] - 6s 4ms/step - loss: 0.1553 - val_loss: 0.1030\n",
      "Epoch 3/50\n",
      "1311/1311 [==============================] - 6s 4ms/step - loss: 0.1168 - val_loss: 0.1002\n",
      "Epoch 4/50\n",
      "1311/1311 [==============================] - 6s 4ms/step - loss: 0.1029 - val_loss: 0.0960\n",
      "Epoch 5/50\n",
      "1311/1311 [==============================] - 6s 4ms/step - loss: 0.0991 - val_loss: 0.0949\n",
      "Epoch 6/50\n",
      "1311/1311 [==============================] - 6s 4ms/step - loss: 0.0980 - val_loss: 0.0971\n",
      "Epoch 7/50\n",
      "1311/1311 [==============================] - 6s 4ms/step - loss: 0.0974 - val_loss: 0.0963\n",
      "Epoch 8/50\n",
      "1311/1311 [==============================] - 6s 4ms/step - loss: 0.0971 - val_loss: 0.0964\n",
      "Epoch 9/50\n",
      "1311/1311 [==============================] - 6s 4ms/step - loss: 0.0968 - val_loss: 0.0941\n",
      "Epoch 10/50\n",
      "1311/1311 [==============================] - 6s 4ms/step - loss: 0.0964 - val_loss: 0.1000\n",
      "Epoch 11/50\n",
      "1311/1311 [==============================] - 6s 5ms/step - loss: 0.0963 - val_loss: 0.0937\n",
      "Epoch 12/50\n",
      "1311/1311 [==============================] - 6s 4ms/step - loss: 0.0959 - val_loss: 0.0973\n",
      "Epoch 13/50\n",
      "1311/1311 [==============================] - 6s 5ms/step - loss: 0.0959 - val_loss: 0.0940\n",
      "Epoch 14/50\n",
      "1311/1311 [==============================] - 6s 5ms/step - loss: 0.0957 - val_loss: 0.0949\n",
      "Epoch 15/50\n",
      "1311/1311 [==============================] - 6s 5ms/step - loss: 0.0955 - val_loss: 0.0932\n",
      "Epoch 16/50\n",
      "1311/1311 [==============================] - 6s 5ms/step - loss: 0.0954 - val_loss: 0.0932\n",
      "Epoch 17/50\n",
      "1311/1311 [==============================] - 6s 5ms/step - loss: 0.0951 - val_loss: 0.0973\n",
      "Epoch 18/50\n",
      "1311/1311 [==============================] - 6s 5ms/step - loss: 0.0952 - val_loss: 0.0919\n",
      "Epoch 19/50\n",
      "1311/1311 [==============================] - 6s 5ms/step - loss: 0.0951 - val_loss: 0.0915\n",
      "Epoch 20/50\n",
      "1311/1311 [==============================] - 6s 5ms/step - loss: 0.0948 - val_loss: 0.0916\n",
      "Epoch 21/50\n",
      "1311/1311 [==============================] - 6s 5ms/step - loss: 0.0947 - val_loss: 0.0939\n",
      "Epoch 22/50\n",
      "1311/1311 [==============================] - 6s 5ms/step - loss: 0.0946 - val_loss: 0.0916\n",
      "Epoch 23/50\n",
      "1311/1311 [==============================] - 6s 4ms/step - loss: 0.0944 - val_loss: 0.0948\n",
      "Epoch 24/50\n",
      "1311/1311 [==============================] - 6s 5ms/step - loss: 0.0943 - val_loss: 0.0916\n"
     ]
    }
   ],
   "source": [
    "history = model.fit(\n",
    "    train_x, train_y, \n",
    "    validation_data=(val_x, val_y), \n",
    "    shuffle=True, batch_size=128, epochs=50,\n",
    "    callbacks=[tf.keras.callbacks.EarlyStopping(monitor=\"val_loss\", patience=5, restore_best_weights=True)]\n",
    ")"
   ]
  },
  {
   "cell_type": "code",
   "execution_count": 18,
   "id": "d027ac73",
   "metadata": {},
   "outputs": [
    {
     "data": {
      "image/png": "[encoded data removed]",
      "text/plain": [
       "<Figure size 864x360 with 1 Axes>"
      ]
     },
     "metadata": {},
     "output_type": "display_data"
    }
   ],
   "source": [
    "plot_history(history)"
   ]
  },
  {
   "cell_type": "code",
   "execution_count": 19,
   "id": "647c1275",
   "metadata": {},
   "outputs": [
    {
     "ename": "ValueError",
     "evalue": "in user code:\n\n    File \"/usr/local/lib/python3.8/dist-packages/keras/engine/training.py\", line 1801, in predict_function  *\n        return step_function(self, iterator)\n    File \"/usr/local/lib/python3.8/dist-packages/keras/engine/training.py\", line 1790, in step_function  **\n        outputs = model.distribute_strategy.run(run_step, args=(data,))\n    File \"/usr/local/lib/python3.8/dist-packages/keras/engine/training.py\", line 1783, in run_step  **\n        outputs = model.predict_step(data)\n    File \"/usr/local/lib/python3.8/dist-packages/keras/engine/training.py\", line 1751, in predict_step\n        return self(x, training=False)\n    File \"/usr/local/lib/python3.8/dist-packages/keras/utils/traceback_utils.py\", line 67, in error_handler\n        raise e.with_traceback(filtered_tb) from None\n    File \"/usr/local/lib/python3.8/dist-packages/keras/engine/input_spec.py\", line 264, in assert_input_compatibility\n        raise ValueError(f'Input {input_index} of layer \"{layer_name}\" is '\n\n    ValueError: Input 0 of layer \"model_2\" is incompatible with the layer: expected shape=(None, 2379), found shape=(None, 61, 13)\n",
     "output_type": "error",
     "traceback": [
      "\u001b[0;31m---------------------------------------------------------------------------\u001b[0m",
      "\u001b[0;31mValueError\u001b[0m                                Traceback (most recent call last)",
      "Input \u001b[0;32mIn [19]\u001b[0m, in \u001b[0;36m<cell line: 3>\u001b[0;34m()\u001b[0m\n\u001b[1;32m     31\u001b[0m x3 \u001b[38;5;241m=\u001b[39m audio_features_d2\u001b[38;5;241m.\u001b[39mreshape(audio_features_d2\u001b[38;5;241m.\u001b[39mshape[\u001b[38;5;241m0\u001b[39m], \u001b[38;5;241m-\u001b[39m\u001b[38;5;241m1\u001b[39m)\n\u001b[1;32m     33\u001b[0m xf \u001b[38;5;241m=\u001b[39m np\u001b[38;5;241m.\u001b[39mconcatenate((x1, x2, x3), axis\u001b[38;5;241m=\u001b[39m\u001b[38;5;241m1\u001b[39m)\n\u001b[0;32m---> 35\u001b[0m predictions \u001b[38;5;241m=\u001b[39m \u001b[43mmodel\u001b[49m\u001b[38;5;241;43m.\u001b[39;49m\u001b[43mpredict\u001b[49m\u001b[43m(\u001b[49m\u001b[43maudio_features\u001b[49m\u001b[43m)\u001b[49m\n\u001b[1;32m     37\u001b[0m output_file \u001b[38;5;241m=\u001b[39m \u001b[38;5;124mf\u001b[39m\u001b[38;5;124m\"\u001b[39m\u001b[38;5;124mdata/predictions/\u001b[39m\u001b[38;5;132;01m{\u001b[39;00mvideo_id\u001b[38;5;132;01m}\u001b[39;00m\u001b[38;5;124m/handpose_\u001b[39m\u001b[38;5;132;01m{\u001b[39;00mt\u001b[38;5;132;01m}\u001b[39;00m\u001b[38;5;124m_\u001b[39m\u001b[38;5;132;01m{\u001b[39;00md\u001b[38;5;132;01m}\u001b[39;00m\u001b[38;5;124m.npy\u001b[39m\u001b[38;5;124m\"\u001b[39m\n\u001b[1;32m     39\u001b[0m np\u001b[38;5;241m.\u001b[39msave(output_file, predictions)\n",
      "File \u001b[0;32m/usr/local/lib/python3.8/dist-packages/keras/utils/traceback_utils.py:67\u001b[0m, in \u001b[0;36mfilter_traceback.<locals>.error_handler\u001b[0;34m(*args, **kwargs)\u001b[0m\n\u001b[1;32m     65\u001b[0m \u001b[38;5;28;01mexcept\u001b[39;00m \u001b[38;5;167;01mException\u001b[39;00m \u001b[38;5;28;01mas\u001b[39;00m e:  \u001b[38;5;66;03m# pylint: disable=broad-except\u001b[39;00m\n\u001b[1;32m     66\u001b[0m   filtered_tb \u001b[38;5;241m=\u001b[39m _process_traceback_frames(e\u001b[38;5;241m.\u001b[39m__traceback__)\n\u001b[0;32m---> 67\u001b[0m   \u001b[38;5;28;01mraise\u001b[39;00m e\u001b[38;5;241m.\u001b[39mwith_traceback(filtered_tb) \u001b[38;5;28;01mfrom\u001b[39;00m \u001b[38;5;28mNone\u001b[39m\n\u001b[1;32m     68\u001b[0m \u001b[38;5;28;01mfinally\u001b[39;00m:\n\u001b[1;32m     69\u001b[0m   \u001b[38;5;28;01mdel\u001b[39;00m filtered_tb\n",
      "File \u001b[0;32m/usr/local/lib/python3.8/dist-packages/tensorflow/python/framework/func_graph.py:1147\u001b[0m, in \u001b[0;36mfunc_graph_from_py_func.<locals>.autograph_handler\u001b[0;34m(*args, **kwargs)\u001b[0m\n\u001b[1;32m   1145\u001b[0m \u001b[38;5;28;01mexcept\u001b[39;00m \u001b[38;5;167;01mException\u001b[39;00m \u001b[38;5;28;01mas\u001b[39;00m e:  \u001b[38;5;66;03m# pylint:disable=broad-except\u001b[39;00m\n\u001b[1;32m   1146\u001b[0m   \u001b[38;5;28;01mif\u001b[39;00m \u001b[38;5;28mhasattr\u001b[39m(e, \u001b[38;5;124m\"\u001b[39m\u001b[38;5;124mag_error_metadata\u001b[39m\u001b[38;5;124m\"\u001b[39m):\n\u001b[0;32m-> 1147\u001b[0m     \u001b[38;5;28;01mraise\u001b[39;00m e\u001b[38;5;241m.\u001b[39mag_error_metadata\u001b[38;5;241m.\u001b[39mto_exception(e)\n\u001b[1;32m   1148\u001b[0m   \u001b[38;5;28;01melse\u001b[39;00m:\n\u001b[1;32m   1149\u001b[0m     \u001b[38;5;28;01mraise\u001b[39;00m\n",
      "\u001b[0;31mValueError\u001b[0m: in user code:\n\n    File \"/usr/local/lib/python3.8/dist-packages/keras/engine/training.py\", line 1801, in predict_function  *\n        return step_function(self, iterator)\n    File \"/usr/local/lib/python3.8/dist-packages/keras/engine/training.py\", line 1790, in step_function  **\n        outputs = model.distribute_strategy.run(run_step, args=(data,))\n    File \"/usr/local/lib/python3.8/dist-packages/keras/engine/training.py\", line 1783, in run_step  **\n        outputs = model.predict_step(data)\n    File \"/usr/local/lib/python3.8/dist-packages/keras/engine/training.py\", line 1751, in predict_step\n        return self(x, training=False)\n    File \"/usr/local/lib/python3.8/dist-packages/keras/utils/traceback_utils.py\", line 67, in error_handler\n        raise e.with_traceback(filtered_tb) from None\n    File \"/usr/local/lib/python3.8/dist-packages/keras/engine/input_spec.py\", line 264, in assert_input_compatibility\n        raise ValueError(f'Input {input_index} of layer \"{layer_name}\" is '\n\n    ValueError: Input 0 of layer \"model_2\" is incompatible with the layer: expected shape=(None, 2379), found shape=(None, 61, 13)\n"
     ]
    }
   ],
   "source": [
    "caption_files = glob.glob(\"data/captions/*.csv\")\n",
    "\n",
    "for caption_file in caption_files:\n",
    "    \n",
    "    video_id = caption_file.split(\"/\")[-1].replace(\".csv\", \"\")\n",
    "    text_feature_file = f\"data/features/text/{video_id}.npy\"\n",
    "\n",
    "    captions = pd.read_csv(caption_file)\n",
    "    \n",
    "    output_folder = os.path.join(\"data/predictions\", video_id)\n",
    "\n",
    "    if not os.path.exists(output_folder): os.mkdir(output_folder)\n",
    "\n",
    "    for i in range(len(captions)):\n",
    "        t, d = captions.iloc[i, [0, 1]]\n",
    "\n",
    "        audio_feature_file = f\"data/features/audio/{video_id}/audio_feat_{t}_{d}.npy\"\n",
    "        audio_feature_d1_file = f\"data/features/audio/{video_id}/audio_feat_d1_{t}_{d}.npy\"\n",
    "        audio_feature_d2_file = f\"data/features/audio/{video_id}/audio_feat_d2_{t}_{d}.npy\"\n",
    "\n",
    "        if os.path.exists(audio_feature_file):\n",
    "#             audio_features = np.load(audio_feature_file)\n",
    "#             audio_features = audio_features.reshape(audio_features.shape[0], -1)\n",
    "            \n",
    "            audio_features = np.load(audio_feature_file)\n",
    "            audio_features_d1 = np.load(audio_feature_d1_file)\n",
    "            audio_features_d2 = np.load(audio_feature_d2_file)\n",
    "            \n",
    "            x1 = audio_features.reshape(audio_features.shape[0], -1)\n",
    "            x2 = audio_features_d1.reshape(audio_features_d1.shape[0], -1)\n",
    "            x3 = audio_features_d2.reshape(audio_features_d2.shape[0], -1)\n",
    "\n",
    "            xf = np.concatenate((x1, x2, x3), axis=1)\n",
    "            \n",
    "            predictions = model.predict(audio_features)\n",
    "            \n",
    "            output_file = f\"data/predictions/{video_id}/handpose_{t}_{d}.npy\"\n",
    "            \n",
    "            np.save(output_file, predictions)"
   ]
  },
  {
   "cell_type": "code",
   "execution_count": 20,
   "id": "521f9cdd",
   "metadata": {},
   "outputs": [],
   "source": [
    "init_weights = model.get_weights()"
   ]
  },
  {
   "cell_type": "code",
   "execution_count": 24,
   "id": "853d6786",
   "metadata": {},
   "outputs": [
    {
     "name": "stdout",
     "output_type": "stream",
     "text": [
      "Out of 3789 samples, 581 were removed.\n"
     ]
    }
   ],
   "source": [
    "train_x, val_x, train_y, val_y = get_invidiuals_dataset(\"4zLmWpMDY8Q\")"
   ]
  },
  {
   "cell_type": "code",
   "execution_count": 25,
   "id": "1ff324db",
   "metadata": {},
   "outputs": [
    {
     "name": "stdout",
     "output_type": "stream",
     "text": [
      "Epoch 1/50\n",
      "51/51 [==============================] - 0s 6ms/step - loss: 0.0819 - val_loss: 0.0847\n",
      "Epoch 2/50\n",
      "51/51 [==============================] - 0s 5ms/step - loss: 0.0810 - val_loss: 0.0865\n",
      "Epoch 3/50\n",
      "51/51 [==============================] - 0s 5ms/step - loss: 0.0828 - val_loss: 0.0898\n",
      "Epoch 4/50\n",
      "51/51 [==============================] - 0s 5ms/step - loss: 0.0812 - val_loss: 0.0868\n",
      "Epoch 5/50\n",
      "51/51 [==============================] - 0s 5ms/step - loss: 0.0797 - val_loss: 0.0882\n",
      "Epoch 6/50\n",
      "51/51 [==============================] - 0s 5ms/step - loss: 0.0783 - val_loss: 0.0863\n"
     ]
    }
   ],
   "source": [
    "history = model.fit(\n",
    "    train_x, train_y, \n",
    "    validation_data=(val_x, val_y), \n",
    "    shuffle=True, batch_size=32, epochs=50,\n",
    "    callbacks=[tf.keras.callbacks.EarlyStopping(monitor=\"val_loss\", patience=5, restore_best_weights=True)]\n",
    ")"
   ]
  },
  {
   "cell_type": "code",
   "execution_count": 26,
   "id": "bffe79e1",
   "metadata": {},
   "outputs": [
    {
     "data": {
      "image/png": "[encoded data removed]",
      "text/plain": [
       "<Figure size 864x360 with 1 Axes>"
      ]
     },
     "metadata": {},
     "output_type": "display_data"
    }
   ],
   "source": [
    "plot_history(history)"
   ]
  },
  {
   "cell_type": "code",
   "execution_count": 29,
   "id": "fc699425",
   "metadata": {},
   "outputs": [],
   "source": [
    "video_id = \"4zLmWpMDY8Q\"\n",
    "text_feature_file = f\"data/features/text/{video_id}.npy\"\n",
    "\n",
    "captions = pd.read_csv(f\"data/captions/{video_id}.csv\")\n",
    "\n",
    "output_folder = os.path.join(\"data/predictions\", video_id)\n",
    "\n",
    "if not os.path.exists(output_folder): os.mkdir(output_folder)\n",
    "\n",
    "for i in range(len(captions)):\n",
    "    t, d = captions.iloc[i, [0, 1]]\n",
    "    \n",
    "    audio_feature_file = f\"data/features/audio/{video_id}/audio_feat_{t}_{d}.npy\"\n",
    "    audio_feature_d1_file = f\"data/features/audio/{video_id}/audio_feat_d1_{t}_{d}.npy\"\n",
    "    audio_feature_d2_file = f\"data/features/audio/{video_id}/audio_feat_d2_{t}_{d}.npy\"\n",
    "\n",
    "    if os.path.exists(audio_feature_file):\n",
    "        audio_features = np.load(audio_feature_file)\n",
    "        audio_features_d1 = np.load(audio_feature_d1_file)\n",
    "        audio_features_d2 = np.load(audio_feature_d2_file)\n",
    "\n",
    "        x1 = audio_features.reshape(audio_features.shape[0], -1)\n",
    "        x2 = audio_features_d1.reshape(audio_features_d1.shape[0], -1)\n",
    "        x3 = audio_features_d2.reshape(audio_features_d2.shape[0], -1)\n",
    "\n",
    "        xf = np.concatenate((x1, x2, x3), axis=1)\n",
    "        predictions = model.predict(xf)\n",
    "\n",
    "        output_file = f\"{output_folder}/handpose_{t}_{d}.npy\"\n",
    "        np.save(output_file, predictions)\n",
    "\n",
    "#     audio_feature_file = f\"data/features/audio/{video_id}/audio_feat_{t}_{d}.npy\"\n",
    "\n",
    "#     if os.path.exists(audio_feature_file):\n",
    "#         audio_features = np.load(audio_feature_file)\n",
    "#         audio_features = audio_features.reshape(audio_features.shape[0], -1)\n",
    "\n",
    "#         predictions = model.predict(audio_features)\n",
    "\n",
    "#         output_file = f\"{output_folder}/handpose_{t}_{d}.npy\"\n",
    "\n",
    "#         np.save(output_file, predictions)"
   ]
  },
  {
   "cell_type": "code",
   "execution_count": 30,
   "id": "cf4366dc",
   "metadata": {},
   "outputs": [],
   "source": [
    "!chown -R 1000:1000 data/predictions/*"
   ]
  },
  {
   "cell_type": "markdown",
   "id": "4964209a",
   "metadata": {},
   "source": [
    "### LSTM model"
   ]
  },
  {
   "cell_type": "code",
   "execution_count": 20,
   "id": "f756ae95",
   "metadata": {},
   "outputs": [
    {
     "name": "stdout",
     "output_type": "stream",
     "text": [
      "Out of 234356 samples, 24684 were removed.\n"
     ]
    }
   ],
   "source": [
    "dataset_dir = \"data/train_data/openpose\"\n",
    "\n",
    "input_x = np.array([]).reshape(0, 1561)\n",
    "input_y = np.array([]).reshape(0, 84)\n",
    "\n",
    "for i in os.listdir(dataset_dir):\n",
    "    d = np.load(os.path.join(dataset_dir, i))\n",
    "    \n",
    "    input_x = np.concatenate((input_x, d[\"x\"]), axis=0)\n",
    "    input_y = np.concatenate((input_y, d[\"y\"]), axis=0)\n",
    "\n",
    "indices = np.unique(np.concatenate((np.argwhere(input_y < -1)[:, 0], np.argwhere(input_y > 1)[:, 0])))\n",
    "\n",
    "init_size = len(input_x)\n",
    "\n",
    "input_x = np.delete(input_x, indices, axis=0)\n",
    "input_y = np.delete(input_y, indices, axis=0)\n",
    "\n",
    "print(f\"Out of {init_size} samples, {len(indices)} were removed.\")\n",
    "\n",
    "input_x_audio = input_x[:, :793]\n",
    "\n",
    "input_x_audio = input_x_audio.reshape(input_x.shape[0], 61, 13)\n",
    "\n",
    "input_x_text = input_x[:, 793:]\n",
    "\n",
    "train_x_audio, val_x_audio, train_x_text, val_x_text, train_y, val_y = train_test_split(\n",
    "    input_x_audio, input_x_text, input_y,\n",
    "    random_state=123, shuffle=True, test_size=0.2\n",
    ")"
   ]
  },
  {
   "cell_type": "code",
   "execution_count": 25,
   "id": "341c8d38",
   "metadata": {},
   "outputs": [],
   "source": [
    "def get_invidiuals_dataset(video_id):\n",
    "    dataset = np.load(f\"data/train_data/openpose/{video_id}.npz\")\n",
    "\n",
    "    input_x = dataset[\"x\"]\n",
    "    input_y = dataset[\"y\"]\n",
    "\n",
    "    indices = np.unique(np.concatenate((np.argwhere(input_y < -1)[:, 0], np.argwhere(input_y > 1)[:, 0])))\n",
    "\n",
    "    init_size = len(input_x)\n",
    "\n",
    "    input_x = np.delete(input_x, indices, axis=0)\n",
    "    input_y = np.delete(input_y, indices, axis=0)\n",
    "\n",
    "    print(f\"Out of {init_size} samples, {len(indices)} were removed.\")\n",
    "\n",
    "    input_x_audio = input_x[:, :793]\n",
    "\n",
    "    input_x_audio = input_x_audio.reshape(input_x.shape[0], 61, 13)\n",
    "\n",
    "    input_x_text = input_x[:, 793:]\n",
    "\n",
    "    train_x_audio, val_x_audio, train_x_text, val_x_text, train_y, val_y = train_test_split(\n",
    "        input_x_audio, input_x_text, input_y,\n",
    "        random_state=123, shuffle=True, test_size=0.2\n",
    "    )\n",
    "    \n",
    "    return train_x_audio, val_x_audio, train_x_text, val_x_text, train_y, val_y"
   ]
  },
  {
   "cell_type": "code",
   "execution_count": 21,
   "id": "9b48683d",
   "metadata": {},
   "outputs": [],
   "source": [
    "def build_model():\n",
    "    audio_input = tf.keras.Input(shape=(61, 13))\n",
    "    text_input = tf.keras.Input(shape=(768, ))\n",
    "\n",
    "    x = LSTM(13)(audio_input)\n",
    "    x = Dropout(0.3)(x)\n",
    "    \n",
    "    x = concatenate([x, text_input], axis=1)\n",
    "    \n",
    "    x = Dense(396, activation=\"tanh\")(x)\n",
    "    x = Dropout(0.3)(x)\n",
    "    \n",
    "    outputs = Dense(84, activation=\"tanh\")(x)\n",
    "\n",
    "    model = Model(inputs=[audio_input, text_input], outputs=outputs)\n",
    "    \n",
    "    return model"
   ]
  },
  {
   "cell_type": "code",
   "execution_count": 22,
   "id": "db747012",
   "metadata": {},
   "outputs": [
    {
     "name": "stdout",
     "output_type": "stream",
     "text": [
      "Model: \"model_2\"\n",
      "__________________________________________________________________________________________________\n",
      " Layer (type)                   Output Shape         Param #     Connected to                     \n",
      "==================================================================================================\n",
      " input_3 (InputLayer)           [(None, 61, 13)]     0           []                               \n",
      "                                                                                                  \n",
      " lstm (LSTM)                    (None, 13)           1404        ['input_3[0][0]']                \n",
      "                                                                                                  \n",
      " dropout_4 (Dropout)            (None, 13)           0           ['lstm[0][0]']                   \n",
      "                                                                                                  \n",
      " input_4 (InputLayer)           [(None, 768)]        0           []                               \n",
      "                                                                                                  \n",
      " concatenate (Concatenate)      (None, 781)          0           ['dropout_4[0][0]',              \n",
      "                                                                  'input_4[0][0]']                \n",
      "                                                                                                  \n",
      " dense_6 (Dense)                (None, 396)          309672      ['concatenate[0][0]']            \n",
      "                                                                                                  \n",
      " dropout_5 (Dropout)            (None, 396)          0           ['dense_6[0][0]']                \n",
      "                                                                                                  \n",
      " dense_7 (Dense)                (None, 84)           33348       ['dropout_5[0][0]']              \n",
      "                                                                                                  \n",
      "==================================================================================================\n",
      "Total params: 344,424\n",
      "Trainable params: 344,424\n",
      "Non-trainable params: 0\n",
      "__________________________________________________________________________________________________\n"
     ]
    }
   ],
   "source": [
    "model = build_model()\n",
    "model.compile(optimizer=tf.keras.optimizers.Adam(learning_rate=0.001), loss=tf.keras.losses.MeanSquaredError())\n",
    "\n",
    "model.summary()"
   ]
  },
  {
   "cell_type": "code",
   "execution_count": 23,
   "id": "e9d07030",
   "metadata": {
    "scrolled": true
   },
   "outputs": [
    {
     "name": "stdout",
     "output_type": "stream",
     "text": [
      "Epoch 1/50\n"
     ]
    },
    {
     "name": "stderr",
     "output_type": "stream",
     "text": [
      "2022-04-29 08:18:18.034174: I tensorflow/stream_executor/cuda/cuda_dnn.cc:368] Loaded cuDNN version 8100\n"
     ]
    },
    {
     "name": "stdout",
     "output_type": "stream",
     "text": [
      "1311/1311 [==============================] - 14s 8ms/step - loss: 0.1150 - val_loss: 0.0934\n",
      "Epoch 2/50\n",
      "1311/1311 [==============================] - 8s 6ms/step - loss: 0.0939 - val_loss: 0.0914\n",
      "Epoch 3/50\n",
      "1311/1311 [==============================] - 9s 7ms/step - loss: 0.0930 - val_loss: 0.0919\n",
      "Epoch 4/50\n",
      "1311/1311 [==============================] - 8s 6ms/step - loss: 0.0924 - val_loss: 0.0911\n",
      "Epoch 5/50\n",
      "1311/1311 [==============================] - 8s 6ms/step - loss: 0.0920 - val_loss: 0.0916\n",
      "Epoch 6/50\n",
      "1311/1311 [==============================] - 8s 6ms/step - loss: 0.0917 - val_loss: 0.0909\n",
      "Epoch 7/50\n",
      "1311/1311 [==============================] - 8s 6ms/step - loss: 0.0915 - val_loss: 0.0897\n",
      "Epoch 8/50\n",
      "1311/1311 [==============================] - 9s 6ms/step - loss: 0.0910 - val_loss: 0.0899\n",
      "Epoch 9/50\n",
      "1311/1311 [==============================] - 8s 6ms/step - loss: 0.0906 - val_loss: 0.0918\n",
      "Epoch 10/50\n",
      "1311/1311 [==============================] - 9s 7ms/step - loss: 0.0903 - val_loss: 0.0882\n",
      "Epoch 11/50\n",
      "1311/1311 [==============================] - 9s 7ms/step - loss: 0.0898 - val_loss: 0.0866\n",
      "Epoch 12/50\n",
      "1311/1311 [==============================] - 9s 7ms/step - loss: 0.0892 - val_loss: 0.0886\n",
      "Epoch 13/50\n",
      "1311/1311 [==============================] - 9s 7ms/step - loss: 0.0886 - val_loss: 0.0868\n",
      "Epoch 14/50\n",
      "1311/1311 [==============================] - 9s 7ms/step - loss: 0.0878 - val_loss: 0.0857\n",
      "Epoch 15/50\n",
      "1311/1311 [==============================] - 9s 7ms/step - loss: 0.0870 - val_loss: 0.0838\n",
      "Epoch 16/50\n",
      "1311/1311 [==============================] - 9s 7ms/step - loss: 0.0860 - val_loss: 0.0818\n",
      "Epoch 17/50\n",
      "1311/1311 [==============================] - 8s 6ms/step - loss: 0.0850 - val_loss: 0.0808\n",
      "Epoch 18/50\n",
      "1311/1311 [==============================] - 9s 7ms/step - loss: 0.0839 - val_loss: 0.0784\n",
      "Epoch 19/50\n",
      "1311/1311 [==============================] - 10s 7ms/step - loss: 0.0830 - val_loss: 0.0803\n",
      "Epoch 20/50\n",
      "1311/1311 [==============================] - 9s 7ms/step - loss: 0.0819 - val_loss: 0.0803\n",
      "Epoch 21/50\n",
      "1311/1311 [==============================] - 9s 7ms/step - loss: 0.0808 - val_loss: 0.0792\n",
      "Epoch 22/50\n",
      "1311/1311 [==============================] - 9s 7ms/step - loss: 0.0798 - val_loss: 0.0726\n",
      "Epoch 23/50\n",
      "1311/1311 [==============================] - 9s 7ms/step - loss: 0.0786 - val_loss: 0.0718\n",
      "Epoch 24/50\n",
      "1311/1311 [==============================] - 8s 6ms/step - loss: 0.0778 - val_loss: 0.0728\n",
      "Epoch 25/50\n",
      "1311/1311 [==============================] - 7s 5ms/step - loss: 0.0769 - val_loss: 0.0703\n",
      "Epoch 26/50\n",
      "1311/1311 [==============================] - 6s 5ms/step - loss: 0.0759 - val_loss: 0.0692\n",
      "Epoch 27/50\n",
      "1311/1311 [==============================] - 9s 7ms/step - loss: 0.0751 - val_loss: 0.0701\n",
      "Epoch 28/50\n",
      "1311/1311 [==============================] - 9s 7ms/step - loss: 0.0743 - val_loss: 0.0679\n",
      "Epoch 29/50\n",
      "1311/1311 [==============================] - 8s 6ms/step - loss: 0.0734 - val_loss: 0.0701\n",
      "Epoch 30/50\n",
      "1311/1311 [==============================] - 8s 6ms/step - loss: 0.0727 - val_loss: 0.0653\n",
      "Epoch 31/50\n",
      "1311/1311 [==============================] - 8s 6ms/step - loss: 0.0721 - val_loss: 0.0694\n",
      "Epoch 32/50\n",
      "1311/1311 [==============================] - 9s 7ms/step - loss: 0.0714 - val_loss: 0.0628\n",
      "Epoch 33/50\n",
      "1311/1311 [==============================] - 9s 6ms/step - loss: 0.0709 - val_loss: 0.0655\n",
      "Epoch 34/50\n",
      "1311/1311 [==============================] - 9s 7ms/step - loss: 0.0703 - val_loss: 0.0678\n",
      "Epoch 35/50\n",
      "1311/1311 [==============================] - 9s 7ms/step - loss: 0.0698 - val_loss: 0.0652\n",
      "Epoch 36/50\n",
      "1311/1311 [==============================] - 8s 6ms/step - loss: 0.0690 - val_loss: 0.0621\n",
      "Epoch 37/50\n",
      "1311/1311 [==============================] - 9s 7ms/step - loss: 0.0687 - val_loss: 0.0612\n",
      "Epoch 38/50\n",
      "1311/1311 [==============================] - 8s 6ms/step - loss: 0.0683 - val_loss: 0.0615\n",
      "Epoch 39/50\n",
      "1311/1311 [==============================] - 10s 8ms/step - loss: 0.0680 - val_loss: 0.0604\n",
      "Epoch 40/50\n",
      "1311/1311 [==============================] - 9s 7ms/step - loss: 0.0674 - val_loss: 0.0604\n",
      "Epoch 41/50\n",
      "1311/1311 [==============================] - 9s 7ms/step - loss: 0.0670 - val_loss: 0.0597\n",
      "Epoch 42/50\n",
      "1311/1311 [==============================] - 8s 6ms/step - loss: 0.0666 - val_loss: 0.0606\n",
      "Epoch 43/50\n",
      "1311/1311 [==============================] - 9s 7ms/step - loss: 0.0665 - val_loss: 0.0596\n",
      "Epoch 44/50\n",
      "1311/1311 [==============================] - 9s 7ms/step - loss: 0.0659 - val_loss: 0.0597\n",
      "Epoch 45/50\n",
      "1311/1311 [==============================] - 9s 7ms/step - loss: 0.0657 - val_loss: 0.0591\n",
      "Epoch 46/50\n",
      "1311/1311 [==============================] - 8s 6ms/step - loss: 0.0651 - val_loss: 0.0586\n",
      "Epoch 47/50\n",
      "1311/1311 [==============================] - 9s 7ms/step - loss: 0.0650 - val_loss: 0.0573\n",
      "Epoch 48/50\n",
      "1311/1311 [==============================] - 8s 6ms/step - loss: 0.0647 - val_loss: 0.0577\n",
      "Epoch 49/50\n",
      "1311/1311 [==============================] - 9s 7ms/step - loss: 0.0645 - val_loss: 0.0581\n",
      "Epoch 50/50\n",
      "1311/1311 [==============================] - 8s 6ms/step - loss: 0.0642 - val_loss: 0.0576\n"
     ]
    }
   ],
   "source": [
    "history = model.fit(\n",
    "    (train_x_audio, train_x_text), train_y, \n",
    "    validation_data=((val_x_audio, val_x_text), val_y), \n",
    "    shuffle=True, batch_size=128, epochs=50,\n",
    "    callbacks=[\n",
    "        tf.keras.callbacks.EarlyStopping(monitor=\"val_loss\", min_delta=0.001, patience=5, restore_best_weights=True)\n",
    "    ]\n",
    ")"
   ]
  },
  {
   "cell_type": "code",
   "execution_count": 24,
   "id": "f8b58925",
   "metadata": {},
   "outputs": [
    {
     "data": {
      "image/png": "[encoded data removed]",
      "text/plain": [
       "<Figure size 864x360 with 1 Axes>"
      ]
     },
     "metadata": {},
     "output_type": "display_data"
    }
   ],
   "source": [
    "plot_history(history)"
   ]
  },
  {
   "cell_type": "code",
   "execution_count": 26,
   "id": "5ee83e99",
   "metadata": {},
   "outputs": [],
   "source": [
    "init_weights = model.get_weights()"
   ]
  },
  {
   "cell_type": "code",
   "execution_count": 27,
   "id": "c6a5bf4a",
   "metadata": {},
   "outputs": [
    {
     "name": "stdout",
     "output_type": "stream",
     "text": [
      "Out of 3789 samples, 581 were removed.\n"
     ]
    }
   ],
   "source": [
    "train_x_audio, val_x_audio, train_x_text, val_x_text, train_y, val_y = get_invidiuals_dataset(\"4zLmWpMDY8Q\")"
   ]
  },
  {
   "cell_type": "code",
   "execution_count": 28,
   "id": "b84557ac",
   "metadata": {},
   "outputs": [
    {
     "name": "stdout",
     "output_type": "stream",
     "text": [
      "Epoch 1/50\n",
      "21/21 [==============================] - 0s 6ms/step - loss: 0.0605 - val_loss: 0.0513\n",
      "Epoch 2/50\n",
      "21/21 [==============================] - 0s 7ms/step - loss: 0.0563 - val_loss: 0.0555\n",
      "Epoch 3/50\n",
      "21/21 [==============================] - 0s 7ms/step - loss: 0.0577 - val_loss: 0.0519\n",
      "Epoch 4/50\n",
      "21/21 [==============================] - 0s 7ms/step - loss: 0.0558 - val_loss: 0.0509\n",
      "Epoch 5/50\n",
      "21/21 [==============================] - 0s 9ms/step - loss: 0.0536 - val_loss: 0.0515\n",
      "Epoch 6/50\n",
      "21/21 [==============================] - 0s 6ms/step - loss: 0.0531 - val_loss: 0.0495\n",
      "Epoch 7/50\n",
      "21/21 [==============================] - 0s 5ms/step - loss: 0.0543 - val_loss: 0.0607\n",
      "Epoch 8/50\n",
      "21/21 [==============================] - 0s 5ms/step - loss: 0.0573 - val_loss: 0.0513\n",
      "Epoch 9/50\n",
      "21/21 [==============================] - 0s 7ms/step - loss: 0.0554 - val_loss: 0.0526\n",
      "Epoch 10/50\n",
      "21/21 [==============================] - 0s 7ms/step - loss: 0.0523 - val_loss: 0.0517\n",
      "Epoch 11/50\n",
      "21/21 [==============================] - 0s 8ms/step - loss: 0.0508 - val_loss: 0.0544\n"
     ]
    }
   ],
   "source": [
    "history = model.fit(\n",
    "    (train_x_audio, train_x_text), train_y, \n",
    "    validation_data=((val_x_audio, val_x_text), val_y), \n",
    "    shuffle=True, batch_size=128, epochs=50,\n",
    "    callbacks=[\n",
    "        tf.keras.callbacks.EarlyStopping(monitor=\"val_loss\", min_delta=0.001, patience=5, restore_best_weights=True)\n",
    "    ]\n",
    ")"
   ]
  },
  {
   "cell_type": "code",
   "execution_count": 29,
   "id": "50a76860",
   "metadata": {},
   "outputs": [
    {
     "data": {
      "image/png": "[encoded data removed]",
      "text/plain": [
       "<Figure size 864x360 with 1 Axes>"
      ]
     },
     "metadata": {},
     "output_type": "display_data"
    }
   ],
   "source": [
    "plot_history(history)"
   ]
  },
  {
   "cell_type": "code",
   "execution_count": 32,
   "id": "3190c72f",
   "metadata": {},
   "outputs": [],
   "source": [
    "video_id = \"4zLmWpMDY8Q\"\n",
    "text_feature_file = f\"data/features/text/{video_id}.npy\"\n",
    "\n",
    "captions = pd.read_csv(f\"data/captions/{video_id}.csv\")\n",
    "\n",
    "output_folder = os.path.join(\"data/predictions_lstm\", video_id)\n",
    "\n",
    "if not os.path.exists(output_folder): os.mkdir(output_folder)\n",
    "\n",
    "for i in range(len(captions)):\n",
    "    t, d = captions.iloc[i, [0, 1]]\n",
    "\n",
    "    audio_feature_file = f\"data/features/audio/{video_id}/audio_feat_{t}_{d}.npy\"\n",
    "    text_features_all = np.load(f\"data/features/text/{video_id}.npy\")\n",
    "\n",
    "    if os.path.exists(audio_feature_file):\n",
    "        audio_features = np.load(audio_feature_file)\n",
    "            \n",
    "        text_features = text_features_all[i].reshape(1, -1).repeat(audio_features.shape[0], axis=0)\n",
    "\n",
    "        predictions = model.predict((audio_features, text_features))\n",
    "\n",
    "        output_file = f\"{output_folder}/handpose_{t}_{d}.npy\"\n",
    "\n",
    "        np.save(output_file, predictions)"
   ]
  },
  {
   "cell_type": "markdown",
   "id": "c0d9f7d4",
   "metadata": {},
   "source": [
    "### Prediction"
   ]
  },
  {
   "cell_type": "code",
   "execution_count": 11,
   "id": "2e0c8783",
   "metadata": {},
   "outputs": [],
   "source": [
    "def build_model():\n",
    "    audio_input = tf.keras.Input(shape=(61, 13))\n",
    "\n",
    "    x = LSTM(13)(audio_input)\n",
    "    x = Dropout(0.3)(x)\n",
    "    \n",
    "    outputs = Dense(84, activation=\"tanh\")(x)\n",
    "\n",
    "    model = Model(inputs=audio_input, outputs=outputs)\n",
    "    \n",
    "    return model"
   ]
  },
  {
   "cell_type": "code",
   "execution_count": 15,
   "id": "73671aa0",
   "metadata": {},
   "outputs": [
    {
     "name": "stdout",
     "output_type": "stream",
     "text": [
      "Model: \"model_3\"\n",
      "_________________________________________________________________\n",
      " Layer (type)                Output Shape              Param #   \n",
      "=================================================================\n",
      " input_6 (InputLayer)        [(None, 61, 13)]          0         \n",
      "                                                                 \n",
      " lstm_3 (LSTM)               (None, 13)                1404      \n",
      "                                                                 \n",
      " dropout_5 (Dropout)         (None, 13)                0         \n",
      "                                                                 \n",
      " dense_5 (Dense)             (None, 84)                1176      \n",
      "                                                                 \n",
      "=================================================================\n",
      "Total params: 2,580\n",
      "Trainable params: 2,580\n",
      "Non-trainable params: 0\n",
      "_________________________________________________________________\n"
     ]
    }
   ],
   "source": [
    "model = build_model()\n",
    "model.compile(optimizer=tf.keras.optimizers.Adam(learning_rate=0.0001), loss=tf.keras.losses.MeanSquaredError())\n",
    "\n",
    "model.summary()"
   ]
  },
  {
   "cell_type": "code",
   "execution_count": 16,
   "id": "e388cfa7",
   "metadata": {},
   "outputs": [
    {
     "name": "stdout",
     "output_type": "stream",
     "text": [
      "Epoch 1/50\n",
      "489/489 [==============================] - 4s 6ms/step - loss: 0.1039 - val_loss: 0.0895\n",
      "Epoch 2/50\n",
      "489/489 [==============================] - 3s 6ms/step - loss: 0.0855 - val_loss: 0.0812\n",
      "Epoch 3/50\n",
      "489/489 [==============================] - 5s 10ms/step - loss: 0.0789 - val_loss: 0.0767\n",
      "Epoch 4/50\n",
      "489/489 [==============================] - 7s 14ms/step - loss: 0.0754 - val_loss: 0.0742\n",
      "Epoch 5/50\n",
      "489/489 [==============================] - 7s 15ms/step - loss: 0.0734 - val_loss: 0.0728\n",
      "Epoch 6/50\n",
      "489/489 [==============================] - 7s 15ms/step - loss: 0.0723 - val_loss: 0.0720\n",
      "Epoch 7/50\n",
      "489/489 [==============================] - 7s 14ms/step - loss: 0.0717 - val_loss: 0.0716\n",
      "Epoch 8/50\n",
      "489/489 [==============================] - 7s 15ms/step - loss: 0.0714 - val_loss: 0.0714\n",
      "Epoch 9/50\n",
      "489/489 [==============================] - 3s 5ms/step - loss: 0.0713 - val_loss: 0.0713\n",
      "Epoch 10/50\n",
      "489/489 [==============================] - 2s 4ms/step - loss: 0.0712 - val_loss: 0.0712\n",
      "Epoch 11/50\n",
      "489/489 [==============================] - 2s 4ms/step - loss: 0.0712 - val_loss: 0.0712\n",
      "Epoch 12/50\n",
      "489/489 [==============================] - 2s 4ms/step - loss: 0.0711 - val_loss: 0.0712\n"
     ]
    }
   ],
   "source": [
    "history = model.fit(\n",
    "    train_x_audio, train_y, \n",
    "    validation_data=(val_x_audio, val_y), \n",
    "    shuffle=True, batch_size=128, epochs=50,\n",
    "    callbacks=[\n",
    "        tf.keras.callbacks.EarlyStopping(monitor=\"val_loss\", min_delta=0.001, patience=5, restore_best_weights=True)\n",
    "    ]\n",
    ")"
   ]
  },
  {
   "cell_type": "code",
   "execution_count": 17,
   "id": "059285cc",
   "metadata": {},
   "outputs": [
    {
     "data": {
      "image/png": "[encoded data removed]",
      "text/plain": [
       "<Figure size 864x360 with 1 Axes>"
      ]
     },
     "metadata": {},
     "output_type": "display_data"
    }
   ],
   "source": [
    "plot_history(history)"
   ]
  },
  {
   "cell_type": "code",
   "execution_count": 18,
   "id": "50c6b101",
   "metadata": {},
   "outputs": [],
   "source": [
    "caption_files = glob.glob(\"data/captions/*.csv\")\n",
    "\n",
    "for caption_file in caption_files:\n",
    "    \n",
    "    video_id = caption_file.split(\"/\")[-1].replace(\".csv\", \"\")\n",
    "\n",
    "    captions = pd.read_csv(caption_file)\n",
    "    \n",
    "    output_folder = os.path.join(\"data/predictions_lstm\", video_id)\n",
    "\n",
    "    if not os.path.exists(output_folder): os.mkdir(output_folder)\n",
    "\n",
    "    for i in range(len(captions)):\n",
    "        t, d = captions.iloc[i, [0, 1]]\n",
    "\n",
    "        audio_feature_file = f\"data/features/audio/{video_id}/audio_feat_{t}_{d}.npy\"\n",
    "\n",
    "        if os.path.exists(audio_feature_file):\n",
    "            audio_features = np.load(audio_feature_file)\n",
    "            \n",
    "            predictions = model.predict(audio_features)\n",
    "            \n",
    "            output_file = f\"{output_folder}/handpose_{t}_{d}.npy\"\n",
    "            \n",
    "            np.save(output_file, predictions)"
   ]
  },
  {
   "cell_type": "code",
   "execution_count": 30,
   "id": "55324af8",
   "metadata": {},
   "outputs": [],
   "source": [
    "!chown -R 1000:1000 data/predictions_lstm//*"
   ]
  },
  {
   "cell_type": "code",
   "execution_count": null,
   "id": "757d98f6",
   "metadata": {},
   "outputs": [],
   "source": []
  }
 ],
 "metadata": {
  "kernelspec": {
   "display_name": "Python 3 (ipykernel)",
   "language": "python",
   "name": "python3"
  },
  "language_info": {
   "codemirror_mode": {
    "name": "ipython",
    "version": 3
   },
   "file_extension": ".py",
   "mimetype": "text/x-python",
   "name": "python",
   "nbconvert_exporter": "python",
   "pygments_lexer": "ipython3",
   "version": "3.8.10"
  }
 },
 "nbformat": 4,
 "nbformat_minor": 5
}
