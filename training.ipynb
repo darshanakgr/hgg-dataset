{
 "cells": [
  {
   "cell_type": "code",
   "execution_count": 118,
   "id": "1cb6d252",
   "metadata": {},
   "outputs": [],
   "source": [
    "import tensorflow as tf\n",
    "import numpy as np\n",
    "import pandas as pd\n",
    "import matplotlib.pyplot as plt\n",
    "import os\n",
    "import glob\n",
    "\n",
    "from sklearn.model_selection import train_test_split\n",
    "\n",
    "from tensorflow.keras.models import Sequential, Model\n",
    "from tensorflow.keras.layers import *\n",
    "\n",
    "import tensorflow_addons as tfa\n",
    "\n",
    "tf.get_logger().setLevel('ERROR')"
   ]
  },
  {
   "cell_type": "code",
   "execution_count": 2,
   "id": "cab62755",
   "metadata": {},
   "outputs": [],
   "source": [
    "%config Completer.use_jedi = False\n",
    "%matplotlib inline"
   ]
  },
  {
   "cell_type": "code",
   "execution_count": 90,
   "id": "e9f6f21c",
   "metadata": {},
   "outputs": [],
   "source": [
    "plt.style.use('ggplot')\n",
    "\n",
    "def plot_history(history):\n",
    "    loss = history.history['loss']\n",
    "    val_loss = history.history['val_loss']\n",
    "    x = range(1, len(loss) + 1)\n",
    "\n",
    "    plt.figure(figsize=(12, 5))\n",
    "    plt.plot(x, loss, 'b', label='Training loss')\n",
    "    plt.plot(x, val_loss, 'r', label='Validation loss')\n",
    "    plt.title('Training and validation loss')\n",
    "    plt.legend()"
   ]
  },
  {
   "cell_type": "code",
   "execution_count": 64,
   "id": "f4aaa424",
   "metadata": {},
   "outputs": [],
   "source": [
    "dataset = np.load(\"data/dataset.npz\")\n",
    "\n",
    "input_x = dataset[\"x\"]\n",
    "input_y = dataset[\"y\"]"
   ]
  },
  {
   "cell_type": "code",
   "execution_count": 107,
   "id": "c7814cdd",
   "metadata": {},
   "outputs": [],
   "source": [
    "indices = np.unique(np.concatenate((np.argwhere(input_y < -1)[:, 0], np.argwhere(input_y > 1)[:, 0])))\n",
    "\n",
    "input_x = np.delete(input_x, indices, axis=0)\n",
    "input_y = np.delete(input_y, indices, axis=0)\n",
    "\n",
    "input_x = input_x[:, :793]"
   ]
  },
  {
   "cell_type": "code",
   "execution_count": 108,
   "id": "3d60bbed",
   "metadata": {},
   "outputs": [],
   "source": [
    "train_x, val_x, train_y, val_y = train_test_split(input_x, input_y, random_state=123, shuffle=True, test_size=0.2)"
   ]
  },
  {
   "cell_type": "code",
   "execution_count": 112,
   "id": "222b0238",
   "metadata": {},
   "outputs": [],
   "source": [
    "def build_model():\n",
    "    inputs = tf.keras.Input(shape=(793, ))\n",
    "\n",
    "    x = Dense(793, activation='tanh')(inputs)\n",
    "    x = Dropout(0.3)(x)\n",
    "    x = Dense(396, activation='tanh')(x)\n",
    "    x = Dropout(0.3)(x)\n",
    "    \n",
    "    outputs = Dense(84, activation=\"tanh\")(x)\n",
    "\n",
    "    model = Model(inputs=inputs, outputs=outputs)\n",
    "    \n",
    "    return model"
   ]
  },
  {
   "cell_type": "code",
   "execution_count": 113,
   "id": "2d22a5ee",
   "metadata": {},
   "outputs": [
    {
     "name": "stdout",
     "output_type": "stream",
     "text": [
      "Model: \"model_20\"\n",
      "_________________________________________________________________\n",
      " Layer (type)                Output Shape              Param #   \n",
      "=================================================================\n",
      " input_22 (InputLayer)       [(None, 793)]             0         \n",
      "                                                                 \n",
      " dense_54 (Dense)            (None, 793)               629642    \n",
      "                                                                 \n",
      " dropout_34 (Dropout)        (None, 793)               0         \n",
      "                                                                 \n",
      " dense_55 (Dense)            (None, 396)               314424    \n",
      "                                                                 \n",
      " dropout_35 (Dropout)        (None, 396)               0         \n",
      "                                                                 \n",
      " dense_56 (Dense)            (None, 84)                33348     \n",
      "                                                                 \n",
      "=================================================================\n",
      "Total params: 977,414\n",
      "Trainable params: 977,414\n",
      "Non-trainable params: 0\n",
      "_________________________________________________________________\n"
     ]
    }
   ],
   "source": [
    "model = build_model()\n",
    "model.compile(optimizer=tf.keras.optimizers.Adam(learning_rate=0.0001), loss=tf.keras.losses.MeanSquaredError())\n",
    "\n",
    "model.summary()"
   ]
  },
  {
   "cell_type": "code",
   "execution_count": 114,
   "id": "2cbffb07",
   "metadata": {
    "scrolled": true
   },
   "outputs": [
    {
     "name": "stdout",
     "output_type": "stream",
     "text": [
      "Epoch 1/50\n",
      "489/489 [==============================] - 1s 2ms/step - loss: 0.3478 - val_loss: 0.1140\n",
      "Epoch 2/50\n",
      "489/489 [==============================] - 1s 2ms/step - loss: 0.2620 - val_loss: 0.0983\n",
      "Epoch 3/50\n",
      "489/489 [==============================] - 1s 3ms/step - loss: 0.1722 - val_loss: 0.0779\n",
      "Epoch 4/50\n",
      "489/489 [==============================] - 1s 3ms/step - loss: 0.1231 - val_loss: 0.0732\n",
      "Epoch 5/50\n",
      "489/489 [==============================] - 1s 2ms/step - loss: 0.0989 - val_loss: 0.0729\n",
      "Epoch 6/50\n",
      "489/489 [==============================] - 1s 3ms/step - loss: 0.0859 - val_loss: 0.0724\n",
      "Epoch 7/50\n",
      "489/489 [==============================] - 1s 3ms/step - loss: 0.0786 - val_loss: 0.0723\n",
      "Epoch 8/50\n",
      "489/489 [==============================] - 1s 3ms/step - loss: 0.0745 - val_loss: 0.0707\n",
      "Epoch 9/50\n",
      "489/489 [==============================] - 1s 2ms/step - loss: 0.0723 - val_loss: 0.0704\n",
      "Epoch 10/50\n",
      "489/489 [==============================] - 1s 2ms/step - loss: 0.0711 - val_loss: 0.0700\n",
      "Epoch 11/50\n",
      "489/489 [==============================] - 1s 3ms/step - loss: 0.0703 - val_loss: 0.0696\n",
      "Epoch 12/50\n",
      "489/489 [==============================] - 1s 3ms/step - loss: 0.0699 - val_loss: 0.0691\n",
      "Epoch 13/50\n",
      "489/489 [==============================] - 1s 3ms/step - loss: 0.0696 - val_loss: 0.0695\n",
      "Epoch 14/50\n",
      "489/489 [==============================] - 1s 3ms/step - loss: 0.0695 - val_loss: 0.0690\n",
      "Epoch 15/50\n",
      "489/489 [==============================] - 1s 3ms/step - loss: 0.0693 - val_loss: 0.0687\n",
      "Epoch 16/50\n",
      "489/489 [==============================] - 1s 2ms/step - loss: 0.0692 - val_loss: 0.0684\n",
      "Epoch 17/50\n",
      "489/489 [==============================] - 1s 2ms/step - loss: 0.0690 - val_loss: 0.0684\n",
      "Epoch 18/50\n",
      "489/489 [==============================] - 1s 2ms/step - loss: 0.0688 - val_loss: 0.0679\n",
      "Epoch 19/50\n",
      "489/489 [==============================] - 1s 3ms/step - loss: 0.0687 - val_loss: 0.0684\n",
      "Epoch 20/50\n",
      "489/489 [==============================] - 2s 3ms/step - loss: 0.0686 - val_loss: 0.0679\n",
      "Epoch 21/50\n",
      "489/489 [==============================] - 1s 3ms/step - loss: 0.0686 - val_loss: 0.0678\n",
      "Epoch 22/50\n",
      "489/489 [==============================] - 1s 3ms/step - loss: 0.0684 - val_loss: 0.0679\n",
      "Epoch 23/50\n",
      "489/489 [==============================] - 1s 3ms/step - loss: 0.0683 - val_loss: 0.0675\n",
      "Epoch 24/50\n",
      "489/489 [==============================] - 1s 3ms/step - loss: 0.0681 - val_loss: 0.0677\n",
      "Epoch 25/50\n",
      "489/489 [==============================] - 2s 3ms/step - loss: 0.0681 - val_loss: 0.0682\n",
      "Epoch 26/50\n",
      "489/489 [==============================] - 1s 2ms/step - loss: 0.0681 - val_loss: 0.0679\n",
      "Epoch 27/50\n",
      "489/489 [==============================] - 1s 3ms/step - loss: 0.0680 - val_loss: 0.0673\n",
      "Epoch 28/50\n",
      "489/489 [==============================] - 2s 3ms/step - loss: 0.0678 - val_loss: 0.0676\n",
      "Epoch 29/50\n",
      "489/489 [==============================] - 2s 3ms/step - loss: 0.0678 - val_loss: 0.0671\n",
      "Epoch 30/50\n",
      "489/489 [==============================] - 1s 3ms/step - loss: 0.0676 - val_loss: 0.0671\n",
      "Epoch 31/50\n",
      "489/489 [==============================] - 2s 3ms/step - loss: 0.0676 - val_loss: 0.0669\n",
      "Epoch 32/50\n",
      "489/489 [==============================] - 1s 2ms/step - loss: 0.0675 - val_loss: 0.0669\n",
      "Epoch 33/50\n",
      "489/489 [==============================] - 1s 3ms/step - loss: 0.0673 - val_loss: 0.0667\n",
      "Epoch 34/50\n",
      "489/489 [==============================] - 1s 3ms/step - loss: 0.0674 - val_loss: 0.0671\n",
      "Epoch 35/50\n",
      "489/489 [==============================] - 1s 2ms/step - loss: 0.0672 - val_loss: 0.0665\n",
      "Epoch 36/50\n",
      "489/489 [==============================] - 1s 2ms/step - loss: 0.0672 - val_loss: 0.0668\n",
      "Epoch 37/50\n",
      "489/489 [==============================] - 1s 2ms/step - loss: 0.0672 - val_loss: 0.0665\n",
      "Epoch 38/50\n",
      "489/489 [==============================] - 1s 3ms/step - loss: 0.0671 - val_loss: 0.0671\n",
      "Epoch 39/50\n",
      "489/489 [==============================] - 1s 3ms/step - loss: 0.0670 - val_loss: 0.0666\n",
      "Epoch 40/50\n",
      "489/489 [==============================] - 1s 2ms/step - loss: 0.0669 - val_loss: 0.0663\n",
      "Epoch 41/50\n",
      "489/489 [==============================] - 1s 2ms/step - loss: 0.0668 - val_loss: 0.0667\n",
      "Epoch 42/50\n",
      "489/489 [==============================] - 1s 2ms/step - loss: 0.0670 - val_loss: 0.0660\n",
      "Epoch 43/50\n",
      "489/489 [==============================] - 1s 3ms/step - loss: 0.0666 - val_loss: 0.0659\n",
      "Epoch 44/50\n",
      "489/489 [==============================] - 1s 3ms/step - loss: 0.0666 - val_loss: 0.0658\n",
      "Epoch 45/50\n",
      "489/489 [==============================] - 1s 3ms/step - loss: 0.0667 - val_loss: 0.0660\n",
      "Epoch 46/50\n",
      "489/489 [==============================] - 1s 3ms/step - loss: 0.0664 - val_loss: 0.0659\n",
      "Epoch 47/50\n",
      "489/489 [==============================] - 1s 2ms/step - loss: 0.0664 - val_loss: 0.0661\n",
      "Epoch 48/50\n",
      "489/489 [==============================] - 1s 2ms/step - loss: 0.0664 - val_loss: 0.0659\n",
      "Epoch 49/50\n",
      "489/489 [==============================] - 1s 3ms/step - loss: 0.0663 - val_loss: 0.0658\n",
      "Epoch 50/50\n",
      "489/489 [==============================] - 1s 2ms/step - loss: 0.0662 - val_loss: 0.0658\n"
     ]
    }
   ],
   "source": [
    "history = model.fit(\n",
    "    train_x, train_y, \n",
    "    validation_data=(val_x, val_y), \n",
    "    shuffle=True, batch_size=128, epochs=50,\n",
    "    callbacks=[tf.keras.callbacks.EarlyStopping(monitor=\"val_loss\", patience=5, restore_best_weights=True)]\n",
    ")"
   ]
  },
  {
   "cell_type": "code",
   "execution_count": 115,
   "id": "d027ac73",
   "metadata": {},
   "outputs": [
    {
     "data": {
      "image/png": "[encoded data removed]",
      "text/plain": [
       "<Figure size 864x360 with 1 Axes>"
      ]
     },
     "metadata": {},
     "output_type": "display_data"
    }
   ],
   "source": [
    "plot_history(history)"
   ]
  },
  {
   "cell_type": "code",
   "execution_count": 116,
   "id": "107ad945",
   "metadata": {},
   "outputs": [],
   "source": [
    "model.save(\"model_2.h5\")"
   ]
  },
  {
   "cell_type": "code",
   "execution_count": 126,
   "id": "a5a26149",
   "metadata": {},
   "outputs": [],
   "source": [
    "# Predictions\n",
    "\n",
    "caption_files = glob.glob(\"data/captions/*.csv\")\n",
    "\n",
    "for caption_file in caption_files:\n",
    "    \n",
    "    video_id = caption_file.split(\"/\")[-1].replace(\".csv\", \"\")\n",
    "    text_feature_file = f\"data/features/text/{video_id}.npy\"\n",
    "\n",
    "    captions = pd.read_csv(caption_file)\n",
    "    \n",
    "    output_folder = os.path.join(\"data/predictions\", video_id)\n",
    "\n",
    "    if not os.path.exists(output_folder): os.mkdir(output_folder)\n",
    "\n",
    "    for i in range(len(captions)):\n",
    "        t, d = captions.iloc[i, [0, 1]]\n",
    "\n",
    "        audio_feature_file = f\"data/features/audio/{video_id}/audio_feat_{t}_{d}.npy\"\n",
    "\n",
    "        if os.path.exists(audio_feature_file):\n",
    "            audio_features = np.load(audio_feature_file)\n",
    "            audio_features = audio_features.reshape(audio_features.shape[0], -1)\n",
    "            \n",
    "            predictions = model.predict(audio_features)\n",
    "            \n",
    "            output_file = f\"data/predictions/{video_id}/handpose_{t}_{d}.npy\"\n",
    "            \n",
    "            np.save(output_file, predictions)"
   ]
  },
  {
   "cell_type": "code",
   "execution_count": 127,
   "id": "55324af8",
   "metadata": {},
   "outputs": [],
   "source": [
    "!chown -R 1000:1000 data/predictions/*"
   ]
  },
  {
   "cell_type": "code",
   "execution_count": null,
   "id": "757d98f6",
   "metadata": {},
   "outputs": [],
   "source": []
  }
 ],
 "metadata": {
  "kernelspec": {
   "display_name": "Python 3 (ipykernel)",
   "language": "python",
   "name": "python3"
  },
  "language_info": {
   "codemirror_mode": {
    "name": "ipython",
    "version": 3
   },
   "file_extension": ".py",
   "mimetype": "text/x-python",
   "name": "python",
   "nbconvert_exporter": "python",
   "pygments_lexer": "ipython3",
   "version": "3.8.10"
  }
 },
 "nbformat": 4,
 "nbformat_minor": 5
}
