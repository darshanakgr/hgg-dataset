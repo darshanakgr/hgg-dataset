{
 "cells": [
  {
   "cell_type": "code",
   "execution_count": 1,
   "metadata": {},
   "outputs": [],
   "source": [
    "import matplotlib.pyplot as plt\n",
    "import numpy as np\n",
    "import pandas as pd\n",
    "import tqdm\n",
    "import cv2\n",
    "import PIL\n",
    "import os\n",
    "import tqdm"
   ]
  },
  {
   "cell_type": "code",
   "execution_count": 2,
   "metadata": {},
   "outputs": [],
   "source": [
    "video_file = \"data/video/0gks6ceq4eQ.mp4\"\n",
    "caption_file = \"data/captions/0gks6ceq4eQ.csv\""
   ]
  },
  {
   "cell_type": "code",
   "execution_count": 3,
   "metadata": {},
   "outputs": [],
   "source": [
    "fps = 10                                # Number of frames per second"
   ]
  },
  {
   "cell_type": "code",
   "execution_count": 24,
   "metadata": {},
   "outputs": [
    {
     "name": "stderr",
     "output_type": "stream",
     "text": [
      "100%|██████████| 332/332 [02:16<00:00,  2.43it/s]\n"
     ]
    }
   ],
   "source": [
    "captions = pd.read_csv(caption_file)\n",
    "\n",
    "for c in tqdm.trange(len(captions)):\n",
    "    t, d = captions.iloc[c, [0, 1]]\n",
    "    \n",
    "    start_ft = t * fps // 1000\n",
    "    end_ft = (t + d) * fps // 1000\n",
    "\n",
    "    frame_ids = np.arange(start_ft, end_ft)\n",
    "\n",
    "    prediction_file = \"data/features/handpose/0gks6ceq4eQ/handpose_{t}_{d}.npy\"\n",
    "    \n",
    "    if not os.path.exists(prediction_file.format(t=t, d=d)):\n",
    "        continue\n",
    "    \n",
    "    if os.path.getsize(prediction_file.format(t=t, d=d)) == 278:\n",
    "        continue\n",
    "    \n",
    "    landmarks = np.load(prediction_file.format(t=t, d=d))\n",
    "\n",
    "    for f in frame_ids:\n",
    "        i = f - start_ft\n",
    "        \n",
    "        fig, ax = plt.subplots(1, 2, figsize=(5, 3))\n",
    "\n",
    "        lx, ly, rx, ry = landmarks[i, :21], landmarks[i, 21:42], landmarks[i, 42:63], landmarks[i, 63:]                \n",
    "        ax[0].plot(lx, ly, \"o\")\n",
    "        ax[0].set_xlim(-1, 1)\n",
    "        ax[0].set_ylim(-1, 1)\n",
    "        ax[0].get_xaxis().set_visible(False)\n",
    "        ax[0].get_yaxis().set_visible(False)\n",
    "        \n",
    "        ax[1].plot(rx, ry, \"o\")\n",
    "        ax[1].set_xlim(-1, 1)\n",
    "        ax[1].set_ylim(-1, 1)\n",
    "        ax[1].get_xaxis().set_visible(False)\n",
    "        ax[1].get_yaxis().set_visible(False)\n",
    "        \n",
    "        fig.tight_layout()\n",
    "        fig.savefig(f\"tmp/hands_landmarks_1/img_{f}.png\")\n",
    "        plt.close()"
   ]
  },
  {
   "cell_type": "code",
   "execution_count": 25,
   "metadata": {},
   "outputs": [],
   "source": [
    "w, h = (1280, 720)\n",
    "fourcc = cv2.VideoWriter_fourcc('m', 'p', '4', 'v')\n",
    "writer = cv2.VideoWriter(\"tmp/ground_truth.mp4\", fourcc, fps, (w, h))\n",
    "\n",
    "cap = cv2.VideoCapture(video_file)\n",
    "    \n",
    "while(cap.isOpened()):\n",
    "    frame_exists, curr_frame = cap.read()\n",
    "    if frame_exists:\n",
    "        current_frame_id = int(cap.get(cv2.CAP_PROP_POS_FRAMES) - 1)\n",
    "        \n",
    "        hands_landmarks_path = f\"tmp/hands_landmarks_1/img_{current_frame_id}.png\"\n",
    "        \n",
    "        if os.path.exists(hands_landmarks_path):\n",
    "        \n",
    "            hands_image = cv2.imread(hands_landmarks_path)\n",
    "            \n",
    "            x = np.zeros(curr_frame.shape, dtype=np.uint8)\n",
    "            x[:hands_image.shape[0], :hands_image.shape[1], :] = hands_image\n",
    "\n",
    "            curr_frame = cv2.addWeighted(curr_frame, 1, x, 0.6, 0)\n",
    "            \n",
    "        \n",
    "        writer.write(curr_frame)\n",
    "    else:\n",
    "        break\n",
    "\n",
    "writer.release() "
   ]
  },
  {
   "cell_type": "code",
   "execution_count": null,
   "metadata": {},
   "outputs": [],
   "source": []
  }
 ],
 "metadata": {
  "interpreter": {
   "hash": "81728513bbe5f74440b07cc41ab2f77162a75fab4bcd848c59f902a39c1a9d15"
  },
  "kernelspec": {
   "display_name": "Python 3.8.13 ('venv': venv)",
   "language": "python",
   "name": "python3"
  },
  "language_info": {
   "codemirror_mode": {
    "name": "ipython",
    "version": 3
   },
   "file_extension": ".py",
   "mimetype": "text/x-python",
   "name": "python",
   "nbconvert_exporter": "python",
   "pygments_lexer": "ipython3",
   "version": "3.8.13"
  },
  "orig_nbformat": 4
 },
 "nbformat": 4,
 "nbformat_minor": 2
}
