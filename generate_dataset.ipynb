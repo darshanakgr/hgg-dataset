{
 "cells": [
  {
   "cell_type": "code",
   "execution_count": 1,
   "metadata": {},
   "outputs": [],
   "source": [
    "import numpy as np\n",
    "import os\n",
    "import glob\n",
    "import pandas as pd\n",
    "import tqdm"
   ]
  },
  {
   "cell_type": "code",
   "execution_count": 2,
   "metadata": {},
   "outputs": [],
   "source": [
    "caption_files = glob.glob(\"data/captions/*.csv\")"
   ]
  },
  {
   "cell_type": "code",
   "execution_count": 9,
   "metadata": {},
   "outputs": [
    {
     "name": "stderr",
     "output_type": "stream",
     "text": [
      "100%|██████████| 58/58 [02:00<00:00,  2.07s/it]\n"
     ]
    }
   ],
   "source": [
    "for caption_file in tqdm.tqdm(caption_files):\n",
    "    x = np.array([]).reshape(0, 793 * 3 + 768 * 0)\n",
    "    y = np.array([]).reshape(0, 84)\n",
    "    \n",
    "    video_id = caption_file.split(\"/\")[-1].replace(\".csv\", \"\")\n",
    "    text_feature_file = f\"data/features/text/{video_id}.npy\"\n",
    "\n",
    "    captions = pd.read_csv(caption_file)\n",
    "\n",
    "    text_features = np.load(text_feature_file)\n",
    "\n",
    "    for i in range(len(captions)):\n",
    "        t, d = captions.iloc[i, [0, 1]]\n",
    "\n",
    "        audio_feature_file = f\"data/features/audio/{video_id}/audio_feat_{t}_{d}.npy\"\n",
    "        audio_feature_d1_file = f\"data/features/audio/{video_id}/audio_feat_d1_{t}_{d}.npy\"\n",
    "        audio_feature_d2_file = f\"data/features/audio/{video_id}/audio_feat_d2_{t}_{d}.npy\"\n",
    "        hand_pose_file = f\"data/features/handpose_openpose/{video_id}/handpose_{t}_{d}.npy\"\n",
    "\n",
    "        if os.path.exists(audio_feature_file):\n",
    "            audio_features = np.load(audio_feature_file)\n",
    "            audio_features_d1 = np.load(audio_feature_d1_file)\n",
    "            audio_features_d2 = np.load(audio_feature_d2_file)\n",
    "            \n",
    "            if os.path.exists(hand_pose_file) and os.path.getsize(hand_pose_file) > 278:\n",
    "                hand_poses = np.load(hand_pose_file, allow_pickle=True)\n",
    "                \n",
    "                hand_poses = hand_poses[:-1, :]\n",
    "                \n",
    "                x1 = audio_features.reshape(audio_features.shape[0], -1)\n",
    "                x2 = audio_features_d1.reshape(audio_features_d1.shape[0], -1)\n",
    "                x3 = audio_features_d2.reshape(audio_features_d2.shape[0], -1)\n",
    "                # Add text features\n",
    "                # x3 = text_features[i].reshape(1, -1).repeat(audio_features.shape[0], axis=0)\n",
    "                \n",
    "                xf = np.concatenate((x1, x2, x3), axis=1)\n",
    "                \n",
    "                x = np.concatenate((x, xf), axis=0)\n",
    "                y = np.concatenate((y, hand_poses), axis=0)\n",
    "    \n",
    "    # Normalizing y\n",
    "    lx, ly, rx, ry = y[:, :21], y[:, 21:42], y[:, 42:63], y[:, 63:]\n",
    "\n",
    "    left_middle_finger_distance = np.sqrt(np.square(lx[:, 12]) + np.square(ly[:, 12]))\n",
    "    scale_left = 1 / np.percentile(left_middle_finger_distance, 95)\n",
    "\n",
    "    right_middle_finger_distance = np.sqrt(np.square(rx[:, 12]) + np.square(ry[:, 12]))\n",
    "    scale_right = 1 / np.percentile(right_middle_finger_distance, 95)\n",
    "    \n",
    "    y = np.concatenate((lx * scale_left, ly * scale_left, rx * scale_right, ry * scale_right), axis=1)\n",
    "                \n",
    "    np.savez_compressed(f\"data/train_data/openpose_mfcc_derivatives/{video_id}.npz\", x=x, y=y)\n"
   ]
  }
 ],
 "metadata": {
  "interpreter": {
   "hash": "81728513bbe5f74440b07cc41ab2f77162a75fab4bcd848c59f902a39c1a9d15"
  },
  "kernelspec": {
   "display_name": "Python 3.8.13 ('venv': venv)",
   "language": "python",
   "name": "python3"
  },
  "language_info": {
   "codemirror_mode": {
    "name": "ipython",
    "version": 3
   },
   "file_extension": ".py",
   "mimetype": "text/x-python",
   "name": "python",
   "nbconvert_exporter": "python",
   "pygments_lexer": "ipython3",
   "version": "3.8.13"
  },
  "orig_nbformat": 4
 },
 "nbformat": 4,
 "nbformat_minor": 2
}
