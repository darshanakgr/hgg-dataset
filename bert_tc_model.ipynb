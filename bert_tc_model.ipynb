{
 "cells": [
  {
   "cell_type": "code",
   "execution_count": 2,
   "metadata": {},
   "outputs": [],
   "source": [
    "import tensorflow as tf\n",
    "import numpy as np\n",
    "import pandas as pd\n",
    "import matplotlib.pyplot as plt\n",
    "\n",
    "from sklearn.model_selection import train_test_split\n",
    "from sklearn.preprocessing import LabelBinarizer\n",
    "from sklearn.metrics import classification_report\n",
    "\n",
    "from transformers import BertTokenizer, TFBertModel\n",
    "\n",
    "from tensorflow.keras.models import Sequential, Model\n",
    "from tensorflow.keras.layers import *\n",
    "\n",
    "import tensorflow_hub as hub\n",
    "import tensorflow_text as text\n",
    "import tensorflow_addons as tfa\n",
    "\n",
    "from official.nlp import optimization  # to create AdamW optimizer\n",
    "from transformers import create_optimizer\n",
    "\n",
    "tf.get_logger().setLevel('ERROR')"
   ]
  },
  {
   "cell_type": "code",
   "execution_count": 3,
   "metadata": {},
   "outputs": [],
   "source": [
    "num_epochs = 12\n",
    "batch_size = 32\n",
    "max_seq_length = 256"
   ]
  },
  {
   "cell_type": "code",
   "execution_count": 4,
   "metadata": {},
   "outputs": [],
   "source": [
    "%config Completer.use_jedi = False\n",
    "%matplotlib inline\n",
    "\n",
    "plt.style.use('ggplot')\n",
    "\n",
    "def plot_history(history):\n",
    "    acc = history.history['accuracy']\n",
    "    val_acc = history.history['val_accuracy']\n",
    "    loss = history.history['loss']\n",
    "    val_loss = history.history['val_loss']\n",
    "    x = range(1, len(acc) + 1)\n",
    "\n",
    "    plt.figure(figsize=(12, 5))\n",
    "    plt.subplot(1, 2, 1)\n",
    "    plt.plot(x, acc, 'b', label='Training acc')\n",
    "    plt.plot(x, val_acc, 'r', label='Validation acc')\n",
    "    plt.title('Training and validation accuracy')\n",
    "    plt.legend()\n",
    "    plt.subplot(1, 2, 2)\n",
    "    plt.plot(x, loss, 'b', label='Training loss')\n",
    "    plt.plot(x, val_loss, 'r', label='Validation loss')\n",
    "    plt.title('Training and validation loss')\n",
    "    plt.legend()"
   ]
  },
  {
   "cell_type": "code",
   "execution_count": 5,
   "metadata": {},
   "outputs": [
    {
     "name": "stderr",
     "output_type": "stream",
     "text": [
      "Some layers from the model checkpoint at bert-base-uncased were not used when initializing TFBertModel: ['mlm___cls', 'nsp___cls']\n",
      "- This IS expected if you are initializing TFBertModel from the checkpoint of a model trained on another task or with another architecture (e.g. initializing a BertForSequenceClassification model from a BertForPreTraining model).\n",
      "- This IS NOT expected if you are initializing TFBertModel from the checkpoint of a model that you expect to be exactly identical (initializing a BertForSequenceClassification model from a BertForSequenceClassification model).\n",
      "All the layers of TFBertModel were initialized from the model checkpoint at bert-base-uncased.\n",
      "If your task is similar to the task the model of the checkpoint was trained on, you can already use TFBertModel for predictions without further training.\n"
     ]
    }
   ],
   "source": [
    "tokenizer = BertTokenizer.from_pretrained(\"bert-base-uncased\")\n",
    "bert_model = TFBertModel.from_pretrained(\"bert-base-uncased\")"
   ]
  },
  {
   "cell_type": "code",
   "execution_count": 6,
   "metadata": {},
   "outputs": [],
   "source": [
    "def tokenize(claim, evidence):\n",
    "    x = tokenizer(claim, evidence, truncation=True, padding='max_length', max_length=max_seq_length, return_tensors=\"tf\")\n",
    "    return x[\"input_ids\"], x[\"attention_mask\"], x[\"token_type_ids\"]\n",
    "\n",
    "def preprocess_dataset(dataset):\n",
    "    input_ids = np.zeros((len(dataset), max_seq_length))\n",
    "    attention_masks = np.zeros((len(dataset), max_seq_length))\n",
    "    token_type_ids = np.zeros((len(dataset), max_seq_length))\n",
    "    \n",
    "    dataset.reset_index(drop=True, inplace=True)\n",
    "    \n",
    "    # loop through data and tokenize everything\n",
    "    for i, row in dataset.iterrows():\n",
    "        input_ids[i, :], attention_masks[i, :], token_type_ids[i, :] = tokenize(row[\"Claim\"], row[\"Evidence\"])\n",
    "        \n",
    "    # Encoding labels\n",
    "    lb = LabelBinarizer()\n",
    "    lb.fit([0, 1, 2])\n",
    "    \n",
    "    labels = lb.transform(dataset.Label.values)\n",
    "    \n",
    "    return input_ids, attention_masks, token_type_ids, labels\n",
    "\n",
    "def map_func(input_ids, attention_mask, token_type_ids, labels):\n",
    "    return {'input_ids': input_ids, 'attention_mask': attention_mask, \"token_type_ids\": token_type_ids}, labels"
   ]
  },
  {
   "cell_type": "code",
   "execution_count": 6,
   "metadata": {},
   "outputs": [],
   "source": [
    "# open dataset\n",
    "train_data = pd.read_csv(\"dataset/train_update.csv\")\n",
    "# Splitting into train and validation sets\n",
    "train_set, validation_set = train_test_split(train_data, random_state=123, shuffle=True, test_size=0.2)\n",
    "\n",
    "\n",
    "train_input_ids, train_masks, train_token_type_ids, train_labels = preprocess_dataset(train_set)\n",
    "val_input_ids, val_masks, val_token_type_ids, val_labels = preprocess_dataset(validation_set)"
   ]
  },
  {
   "cell_type": "code",
   "execution_count": 7,
   "metadata": {},
   "outputs": [],
   "source": [
    "train_ds = tf.data.Dataset.from_tensor_slices((train_input_ids, train_masks, train_token_type_ids, train_labels))\n",
    "train_ds = train_ds.map(map_func).shuffle(10000).batch(batch_size).cache().prefetch(buffer_size=tf.data.AUTOTUNE)\n",
    "\n",
    "val_ds = tf.data.Dataset.from_tensor_slices((val_input_ids, val_masks, val_token_type_ids, val_labels))\n",
    "val_ds = val_ds.map(map_func).batch(batch_size).cache().prefetch(buffer_size=tf.data.AUTOTUNE)"
   ]
  },
  {
   "cell_type": "code",
   "execution_count": 13,
   "metadata": {},
   "outputs": [],
   "source": [
    "def build_model(trainable_encoder=True, dropout_rate=0.3):\n",
    "    input_ids = tf.keras.Input(shape=(max_seq_length, ), dtype='int32', name=\"input_ids\")\n",
    "    attention_mask = tf.keras.Input(shape=(max_seq_length, ), dtype='int32', name=\"attention_mask\")\n",
    "    token_type_ids = tf.keras.Input(shape=(max_seq_length, ), dtype='int32', name=\"token_type_ids\")\n",
    "\n",
    "    encoded_ouput = bert_model({\"input_ids\":input_ids, \"attention_mask\":attention_mask, \"token_type_ids\":token_type_ids})\n",
    "    x = GlobalMaxPooling1D(name=\"global_max_pooling1d\")(encoded_ouput[\"last_hidden_state\"])\n",
    "    x = Dropout(dropout_rate, name=\"dropout\")(x)\n",
    "    output = Dense(3, activation='softmax', name='outputs')(x)\n",
    "\n",
    "    model = tf.keras.models.Model(inputs={\"input_ids\":input_ids, \"attention_mask\":attention_mask, \"token_type_ids\":token_type_ids}, outputs=output)\n",
    "\n",
    "    # freeze the encoder network\n",
    "    model.layers[2].trainable = trainable_encoder\n",
    "    return model"
   ]
  },
  {
   "cell_type": "code",
   "execution_count": 14,
   "metadata": {
    "scrolled": false
   },
   "outputs": [
    {
     "name": "stdout",
     "output_type": "stream",
     "text": [
      "Model: \"model_2\"\n",
      "__________________________________________________________________________________________________\n",
      "Layer (type)                    Output Shape         Param #     Connected to                     \n",
      "==================================================================================================\n",
      "attention_mask (InputLayer)     [(None, 256)]        0                                            \n",
      "__________________________________________________________________________________________________\n",
      "input_ids (InputLayer)          [(None, 256)]        0                                            \n",
      "__________________________________________________________________________________________________\n",
      "token_type_ids (InputLayer)     [(None, 256)]        0                                            \n",
      "__________________________________________________________________________________________________\n",
      "tf_bert_model (TFBertModel)     TFBaseModelOutputWit 109482240   attention_mask[0][0]             \n",
      "                                                                 input_ids[0][0]                  \n",
      "                                                                 token_type_ids[0][0]             \n",
      "__________________________________________________________________________________________________\n",
      "global_max_pooling1d (GlobalMax (None, 768)          0           tf_bert_model[2][0]              \n",
      "__________________________________________________________________________________________________\n",
      "dropout (Dropout)               (None, 768)          0           global_max_pooling1d[0][0]       \n",
      "__________________________________________________________________________________________________\n",
      "outputs (Dense)                 (None, 3)            2307        dropout[0][0]                    \n",
      "==================================================================================================\n",
      "Total params: 109,484,547\n",
      "Trainable params: 109,484,547\n",
      "Non-trainable params: 0\n",
      "__________________________________________________________________________________________________\n"
     ]
    }
   ],
   "source": [
    "model = build_model(dropout_rate=0.5)\n",
    "model.summary()"
   ]
  },
  {
   "cell_type": "code",
   "execution_count": 15,
   "metadata": {},
   "outputs": [
    {
     "data": {
      "image/png": "[encoded data removed]",
      "text/plain": [
       "<IPython.core.display.Image object>"
      ]
     },
     "execution_count": 15,
     "metadata": {},
     "output_type": "execute_result"
    }
   ],
   "source": [
    "tf.keras.utils.plot_model(model)"
   ]
  },
  {
   "cell_type": "code",
   "execution_count": 10,
   "metadata": {},
   "outputs": [],
   "source": [
    "batches_per_epoch = len(train_set) // batch_size\n",
    "num_train_steps = int(batches_per_epoch * num_epochs)\n",
    "num_warmup_steps = int(0.1 * num_train_steps)\n",
    "\n",
    "optimizer, schedule = create_optimizer(\n",
    "    init_lr=5e-5, num_warmup_steps=num_warmup_steps, num_train_steps=num_train_steps\n",
    ")\n",
    "\n",
    "# optimizer = tfa.optimizers.AdamW(0.005, learning_rate=0.01)\n",
    "# optimizer = tf.keras.optimizers.Adam(0.001)\n",
    "\n",
    "model.compile(\n",
    "    optimizer=optimizer, \n",
    "    loss=tf.keras.losses.CategoricalCrossentropy(), \n",
    "    metrics=[tf.keras.metrics.CategoricalAccuracy('accuracy')]\n",
    ")"
   ]
  },
  {
   "cell_type": "code",
   "execution_count": 11,
   "metadata": {},
   "outputs": [
    {
     "name": "stdout",
     "output_type": "stream",
     "text": [
      "Epoch 1/12\n",
      "30/30 [==============================] - 39s 712ms/step - loss: 1.6388 - accuracy: 0.4146 - val_loss: 0.9315 - val_accuracy: 0.5254\n",
      "Epoch 2/12\n",
      "30/30 [==============================] - 18s 593ms/step - loss: 1.0681 - accuracy: 0.5005 - val_loss: 0.7292 - val_accuracy: 0.7119\n",
      "Epoch 3/12\n",
      "30/30 [==============================] - 18s 595ms/step - loss: 0.7417 - accuracy: 0.6522 - val_loss: 0.5927 - val_accuracy: 0.7161\n",
      "Epoch 4/12\n",
      "30/30 [==============================] - 18s 597ms/step - loss: 0.6045 - accuracy: 0.7116 - val_loss: 0.5975 - val_accuracy: 0.7076\n",
      "Epoch 5/12\n",
      "30/30 [==============================] - 18s 597ms/step - loss: 0.5038 - accuracy: 0.7656 - val_loss: 0.5747 - val_accuracy: 0.7161\n",
      "Epoch 6/12\n",
      "30/30 [==============================] - 18s 598ms/step - loss: 0.3764 - accuracy: 0.8176 - val_loss: 0.5833 - val_accuracy: 0.7119\n",
      "Epoch 7/12\n",
      "30/30 [==============================] - 18s 599ms/step - loss: 0.3453 - accuracy: 0.8431 - val_loss: 0.5159 - val_accuracy: 0.7797\n",
      "Epoch 8/12\n",
      "30/30 [==============================] - 18s 599ms/step - loss: 0.2894 - accuracy: 0.8706 - val_loss: 0.4560 - val_accuracy: 0.8263\n",
      "Epoch 9/12\n",
      "30/30 [==============================] - 18s 599ms/step - loss: 0.1855 - accuracy: 0.9226 - val_loss: 0.4820 - val_accuracy: 0.8390\n",
      "Epoch 10/12\n",
      "30/30 [==============================] - 18s 599ms/step - loss: 0.1737 - accuracy: 0.9321 - val_loss: 0.5731 - val_accuracy: 0.8263\n",
      "Epoch 11/12\n",
      "30/30 [==============================] - 18s 600ms/step - loss: 0.1186 - accuracy: 0.9544 - val_loss: 0.4658 - val_accuracy: 0.8517\n",
      "Epoch 12/12\n",
      "30/30 [==============================] - 18s 599ms/step - loss: 0.1083 - accuracy: 0.9576 - val_loss: 0.4611 - val_accuracy: 0.8559\n"
     ]
    }
   ],
   "source": [
    "history = model.fit(\n",
    "    train_ds, \n",
    "    validation_data=val_ds, \n",
    "    epochs=num_epochs,\n",
    "    callbacks=[\n",
    "        tf.keras.callbacks.EarlyStopping(monitor='val_loss', patience=5, restore_best_weights=True)\n",
    "    ]\n",
    ")"
   ]
  },
  {
   "cell_type": "code",
   "execution_count": 15,
   "metadata": {},
   "outputs": [
    {
     "data": {
      "image/png": "[encoded data removed]",
      "text/plain": [
       "<Figure size 864x360 with 2 Axes>"
      ]
     },
     "metadata": {},
     "output_type": "display_data"
    }
   ],
   "source": [
    "plot_history(history)"
   ]
  },
  {
   "cell_type": "code",
   "execution_count": 16,
   "metadata": {},
   "outputs": [
    {
     "name": "stdout",
     "output_type": "stream",
     "text": [
      "              precision    recall  f1-score   support\n",
      "\n",
      "           0       0.93      0.98      0.95        53\n",
      "           1       0.91      0.83      0.86       127\n",
      "           2       0.70      0.80      0.75        56\n",
      "\n",
      "    accuracy                           0.86       236\n",
      "   macro avg       0.85      0.87      0.86       236\n",
      "weighted avg       0.86      0.86      0.86       236\n",
      "\n"
     ]
    }
   ],
   "source": [
    "predicted = model.predict(val_ds)\n",
    "y_pred = np.argmax(predicted, axis=1)\n",
    "y_true = np.argmax(val_labels, axis=1)\n",
    "\n",
    "print(classification_report(y_true, y_pred))"
   ]
  },
  {
   "cell_type": "code",
   "execution_count": 17,
   "metadata": {},
   "outputs": [
    {
     "name": "stdout",
     "output_type": "stream",
     "text": [
      "8/8 [==============================] - 1s 178ms/step - loss: 0.4611 - accuracy: 0.8559\n"
     ]
    },
    {
     "data": {
      "text/plain": [
       "[0.46114397048950195, 0.8559321761131287]"
      ]
     },
     "execution_count": 17,
     "metadata": {},
     "output_type": "execute_result"
    }
   ],
   "source": [
    "model.evaluate(val_ds)"
   ]
  },
  {
   "cell_type": "code",
   "execution_count": 18,
   "metadata": {},
   "outputs": [],
   "source": [
    "# model.save(\"models/bert-base-uncased_5e-5_b32.h5\")"
   ]
  },
  {
   "cell_type": "code",
   "execution_count": 29,
   "metadata": {},
   "outputs": [
    {
     "name": "stdout",
     "output_type": "stream",
     "text": [
      "0\n",
      "0\n",
      "1\n",
      "1\n",
      "1\n",
      "0\n",
      "0\n",
      "2\n",
      "2\n",
      "1\n",
      "1\n",
      "1\n",
      "1\n",
      "2\n",
      "1\n",
      "1\n",
      "0\n",
      "2\n",
      "0\n",
      "0\n",
      "1\n",
      "1\n",
      "1\n",
      "1\n",
      "2\n",
      "1\n",
      "1\n",
      "1\n",
      "1\n",
      "0\n",
      "1\n",
      "1\n",
      "2\n",
      "2\n",
      "1\n",
      "1\n",
      "1\n",
      "1\n",
      "1\n",
      "0\n",
      "0\n",
      "1\n",
      "0\n",
      "0\n",
      "1\n",
      "1\n",
      "1\n",
      "0\n",
      "0\n",
      "1\n",
      "1\n",
      "1\n",
      "0\n",
      "1\n",
      "1\n",
      "0\n",
      "2\n",
      "2\n",
      "1\n",
      "1\n",
      "0\n",
      "1\n",
      "0\n",
      "2\n",
      "2\n",
      "1\n",
      "1\n",
      "0\n",
      "0\n",
      "1\n",
      "1\n",
      "0\n",
      "0\n",
      "2\n",
      "1\n",
      "1\n",
      "1\n",
      "2\n",
      "0\n",
      "0\n",
      "0\n",
      "0\n",
      "1\n",
      "1\n",
      "1\n",
      "2\n",
      "1\n",
      "1\n",
      "1\n",
      "1\n",
      "2\n",
      "0\n",
      "0\n",
      "2\n",
      "0\n",
      "0\n",
      "2\n",
      "2\n",
      "1\n",
      "1\n",
      "2\n",
      "0\n",
      "1\n",
      "1\n",
      "0\n",
      "0\n",
      "1\n",
      "1\n",
      "1\n",
      "1\n",
      "0\n",
      "1\n",
      "2\n",
      "0\n",
      "2\n",
      "2\n",
      "2\n",
      "2\n",
      "0\n",
      "1\n",
      "2\n",
      "1\n",
      "1\n",
      "1\n",
      "1\n",
      "2\n",
      "1\n",
      "1\n",
      "1\n",
      "0\n",
      "1\n",
      "2\n",
      "1\n",
      "0\n",
      "0\n",
      "2\n",
      "1\n",
      "1\n",
      "0\n",
      "1\n",
      "1\n",
      "0\n",
      "1\n",
      "0\n",
      "1\n",
      "0\n",
      "2\n",
      "0\n",
      "0\n",
      "1\n"
     ]
    }
   ],
   "source": [
    "# test_data = pd.read_csv(\"dataset/test_phase_1_update.csv\")\n",
    "\n",
    "# # loop through data and tokenize everything\n",
    "# for i, row in test_data.iterrows():\n",
    "#     input_ids, attention_mask, token_type_ids = tokenize(row[\"Claim\"], row[\"Evidence\"])\n",
    "#     p = model.predict({\"input_ids\":input_ids, \"attention_mask\":attention_mask, \"token_type_ids\":token_type_ids})\n",
    "#     label = np.argmax(p, axis=1)[0]\n",
    "#     print(label)"
   ]
  },
  {
   "cell_type": "code",
   "execution_count": null,
   "metadata": {},
   "outputs": [],
   "source": []
  }
 ],
 "metadata": {
  "kernelspec": {
   "display_name": "Python 3",
   "language": "python",
   "name": "python3"
  },
  "language_info": {
   "codemirror_mode": {
    "name": "ipython",
    "version": 3
   },
   "file_extension": ".py",
   "mimetype": "text/x-python",
   "name": "python",
   "nbconvert_exporter": "python",
   "pygments_lexer": "ipython3",
   "version": "3.6.9"
  }
 },
 "nbformat": 4,
 "nbformat_minor": 2
}
